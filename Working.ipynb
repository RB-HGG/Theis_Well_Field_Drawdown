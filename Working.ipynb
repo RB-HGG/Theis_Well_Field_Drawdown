{
 "cells": [
  {
   "cell_type": "code",
   "execution_count": 1,
   "metadata": {},
   "outputs": [],
   "source": [
    "import math\n",
    "import matplotlib.pyplot as plt\n",
    "import pandas as pd\n",
    "\n"
   ]
  },
  {
   "cell_type": "code",
   "execution_count": 2,
   "metadata": {},
   "outputs": [],
   "source": [
    "def rotate(origin, point, angle):\n",
    "    \"\"\"\n",
    "    Rotate a point counterclockwise by a given angle around a given origin.\n",
    "\n",
    "    The angle should be given in radians.\n",
    "    \"\"\"\n",
    "    ox, oy = origin\n",
    "    px, py = point\n",
    "\n",
    "    qx = ox + math.cos(angle) * (px - ox) - math.sin(angle) * (py - oy)\n",
    "    qy = oy + math.sin(angle) * (px - ox) + math.cos(angle) * (py - oy)\n",
    "    return qx, qy"
   ]
  },
  {
   "cell_type": "code",
   "execution_count": 9,
   "metadata": {},
   "outputs": [
    {
     "data": {
      "text/html": [
       "<div>\n",
       "<style scoped>\n",
       "    .dataframe tbody tr th:only-of-type {\n",
       "        vertical-align: middle;\n",
       "    }\n",
       "\n",
       "    .dataframe tbody tr th {\n",
       "        vertical-align: top;\n",
       "    }\n",
       "\n",
       "    .dataframe thead th {\n",
       "        text-align: right;\n",
       "    }\n",
       "</style>\n",
       "<table border=\"1\" class=\"dataframe\">\n",
       "  <thead>\n",
       "    <tr style=\"text-align: right;\">\n",
       "      <th></th>\n",
       "      <th>x</th>\n",
       "      <th>y</th>\n",
       "      <th>Q</th>\n",
       "    </tr>\n",
       "  </thead>\n",
       "  <tbody>\n",
       "    <tr>\n",
       "      <th>0</th>\n",
       "      <td>-2.938926e+01</td>\n",
       "      <td>40.45085</td>\n",
       "      <td>691.2</td>\n",
       "    </tr>\n",
       "    <tr>\n",
       "      <th>1</th>\n",
       "      <td>-4.755283e+01</td>\n",
       "      <td>15.45085</td>\n",
       "      <td>691.2</td>\n",
       "    </tr>\n",
       "    <tr>\n",
       "      <th>2</th>\n",
       "      <td>-4.755283e+01</td>\n",
       "      <td>-15.45085</td>\n",
       "      <td>691.2</td>\n",
       "    </tr>\n",
       "    <tr>\n",
       "      <th>3</th>\n",
       "      <td>-2.938926e+01</td>\n",
       "      <td>-40.45085</td>\n",
       "      <td>691.2</td>\n",
       "    </tr>\n",
       "    <tr>\n",
       "      <th>4</th>\n",
       "      <td>-6.123234e-15</td>\n",
       "      <td>-50.00000</td>\n",
       "      <td>691.2</td>\n",
       "    </tr>\n",
       "    <tr>\n",
       "      <th>5</th>\n",
       "      <td>2.938926e+01</td>\n",
       "      <td>-40.45085</td>\n",
       "      <td>691.2</td>\n",
       "    </tr>\n",
       "    <tr>\n",
       "      <th>6</th>\n",
       "      <td>4.755283e+01</td>\n",
       "      <td>-15.45085</td>\n",
       "      <td>691.2</td>\n",
       "    </tr>\n",
       "    <tr>\n",
       "      <th>7</th>\n",
       "      <td>4.755283e+01</td>\n",
       "      <td>15.45085</td>\n",
       "      <td>691.2</td>\n",
       "    </tr>\n",
       "    <tr>\n",
       "      <th>8</th>\n",
       "      <td>2.938926e+01</td>\n",
       "      <td>40.45085</td>\n",
       "      <td>691.2</td>\n",
       "    </tr>\n",
       "    <tr>\n",
       "      <th>9</th>\n",
       "      <td>1.224647e-14</td>\n",
       "      <td>50.00000</td>\n",
       "      <td>691.2</td>\n",
       "    </tr>\n",
       "  </tbody>\n",
       "</table>\n",
       "</div>"
      ],
      "text/plain": [
       "              x         y      Q\n",
       "0 -2.938926e+01  40.45085  691.2\n",
       "1 -4.755283e+01  15.45085  691.2\n",
       "2 -4.755283e+01 -15.45085  691.2\n",
       "3 -2.938926e+01 -40.45085  691.2\n",
       "4 -6.123234e-15 -50.00000  691.2\n",
       "5  2.938926e+01 -40.45085  691.2\n",
       "6  4.755283e+01 -15.45085  691.2\n",
       "7  4.755283e+01  15.45085  691.2\n",
       "8  2.938926e+01  40.45085  691.2\n",
       "9  1.224647e-14  50.00000  691.2"
      ]
     },
     "execution_count": 9,
     "metadata": {},
     "output_type": "execute_result"
    },
    {
     "data": {
      "image/png": "[encoded data removed]",
      "text/plain": [
       "<Figure size 432x288 with 1 Axes>"
      ]
     },
     "metadata": {
      "needs_background": "light"
     },
     "output_type": "display_data"
    }
   ],
   "source": [
    "# Create ring of wells; export to wells.txt\n",
    "origin = (0,0)\n",
    "radius = 50 # m\n",
    "split = 10\n",
    "split_rot = 360/split\n",
    "Q = 8*1e-3*86400 # L/s to m3/d\n",
    "\n",
    "coords = []\n",
    "for i in range(split):\n",
    "    rot = (i+1)*split_rot\n",
    "    coords.append(list(rotate(origin, (0,radius), math.radians(rot))))\n",
    "\n",
    "\n",
    "df = pd.DataFrame(coords, columns=['x','y'])\n",
    "df['Q'] = Q\n",
    "df.plot(x='x', y='y', ls='', marker='o')\n",
    "\n",
    "df.to_csv('wells.txt', index=False, sep='\\t')\n",
    "df\n"
   ]
  }
 ],
 "metadata": {
  "kernelspec": {
   "display_name": "base",
   "language": "python",
   "name": "python3"
  },
  "language_info": {
   "codemirror_mode": {
    "name": "ipython",
    "version": 3
   },
   "file_extension": ".py",
   "mimetype": "text/x-python",
   "name": "python",
   "nbconvert_exporter": "python",
   "pygments_lexer": "ipython3",
   "version": "3.9.12"
  },
  "orig_nbformat": 4,
  "vscode": {
   "interpreter": {
    "hash": "a5556699f98e26240b5d837469ab6079006990bae74bfb0bf6c05a12af4f124f"
   }
  }
 },
 "nbformat": 4,
 "nbformat_minor": 2
}
