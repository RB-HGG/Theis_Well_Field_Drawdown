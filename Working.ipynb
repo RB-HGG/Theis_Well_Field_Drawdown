{
 "cells": [
  {
   "cell_type": "code",
   "execution_count": 109,
   "metadata": {},
   "outputs": [],
   "source": [
    "import math\n",
    "import matplotlib.pyplot as plt\n",
    "import pandas as pd\n",
    "import numpy as np\n",
    "from scipy.interpolate import griddata\n",
    "from Theis_drawdown import ReadParams,ReadWells,TheisField\n"
   ]
  },
  {
   "cell_type": "code",
   "execution_count": 110,
   "metadata": {},
   "outputs": [],
   "source": [
    "def rotate(origin, point, angle):\n",
    "    \"\"\"\n",
    "    Rotate a point counterclockwise by a given angle around a given origin.\n",
    "\n",
    "    The angle should be given in radians.\n",
    "    \"\"\"\n",
    "    ox, oy = origin\n",
    "    px, py = point\n",
    "\n",
    "    qx = ox + math.cos(angle) * (px - ox) - math.sin(angle) * (py - oy)\n",
    "    qy = oy + math.sin(angle) * (px - ox) + math.cos(angle) * (py - oy)\n",
    "    return qx, qy"
   ]
  },
  {
   "cell_type": "code",
   "execution_count": 127,
   "metadata": {},
   "outputs": [
    {
     "data": {
      "text/html": [
       "<div>\n",
       "<style scoped>\n",
       "    .dataframe tbody tr th:only-of-type {\n",
       "        vertical-align: middle;\n",
       "    }\n",
       "\n",
       "    .dataframe tbody tr th {\n",
       "        vertical-align: top;\n",
       "    }\n",
       "\n",
       "    .dataframe thead th {\n",
       "        text-align: right;\n",
       "    }\n",
       "</style>\n",
       "<table border=\"1\" class=\"dataframe\">\n",
       "  <thead>\n",
       "    <tr style=\"text-align: right;\">\n",
       "      <th></th>\n",
       "      <th>x</th>\n",
       "      <th>y</th>\n",
       "      <th>Q</th>\n",
       "    </tr>\n",
       "  </thead>\n",
       "  <tbody>\n",
       "    <tr>\n",
       "      <th>0</th>\n",
       "      <td>-1.626947e+01</td>\n",
       "      <td>36.541818</td>\n",
       "      <td>691.2</td>\n",
       "    </tr>\n",
       "    <tr>\n",
       "      <th>1</th>\n",
       "      <td>-2.972579e+01</td>\n",
       "      <td>26.765224</td>\n",
       "      <td>691.2</td>\n",
       "    </tr>\n",
       "    <tr>\n",
       "      <th>2</th>\n",
       "      <td>-3.804226e+01</td>\n",
       "      <td>12.360680</td>\n",
       "      <td>691.2</td>\n",
       "    </tr>\n",
       "    <tr>\n",
       "      <th>3</th>\n",
       "      <td>-3.978088e+01</td>\n",
       "      <td>-4.181139</td>\n",
       "      <td>691.2</td>\n",
       "    </tr>\n",
       "    <tr>\n",
       "      <th>4</th>\n",
       "      <td>-3.464102e+01</td>\n",
       "      <td>-20.000000</td>\n",
       "      <td>691.2</td>\n",
       "    </tr>\n",
       "    <tr>\n",
       "      <th>5</th>\n",
       "      <td>-2.351141e+01</td>\n",
       "      <td>-32.360680</td>\n",
       "      <td>691.2</td>\n",
       "    </tr>\n",
       "    <tr>\n",
       "      <th>6</th>\n",
       "      <td>-8.316468e+00</td>\n",
       "      <td>-39.125904</td>\n",
       "      <td>691.2</td>\n",
       "    </tr>\n",
       "    <tr>\n",
       "      <th>7</th>\n",
       "      <td>8.316468e+00</td>\n",
       "      <td>-39.125904</td>\n",
       "      <td>691.2</td>\n",
       "    </tr>\n",
       "    <tr>\n",
       "      <th>8</th>\n",
       "      <td>2.351141e+01</td>\n",
       "      <td>-32.360680</td>\n",
       "      <td>691.2</td>\n",
       "    </tr>\n",
       "    <tr>\n",
       "      <th>9</th>\n",
       "      <td>3.464102e+01</td>\n",
       "      <td>-20.000000</td>\n",
       "      <td>691.2</td>\n",
       "    </tr>\n",
       "    <tr>\n",
       "      <th>10</th>\n",
       "      <td>3.978088e+01</td>\n",
       "      <td>-4.181139</td>\n",
       "      <td>691.2</td>\n",
       "    </tr>\n",
       "    <tr>\n",
       "      <th>11</th>\n",
       "      <td>3.804226e+01</td>\n",
       "      <td>12.360680</td>\n",
       "      <td>691.2</td>\n",
       "    </tr>\n",
       "    <tr>\n",
       "      <th>12</th>\n",
       "      <td>2.972579e+01</td>\n",
       "      <td>26.765224</td>\n",
       "      <td>691.2</td>\n",
       "    </tr>\n",
       "    <tr>\n",
       "      <th>13</th>\n",
       "      <td>1.626947e+01</td>\n",
       "      <td>36.541818</td>\n",
       "      <td>691.2</td>\n",
       "    </tr>\n",
       "    <tr>\n",
       "      <th>14</th>\n",
       "      <td>9.797174e-15</td>\n",
       "      <td>40.000000</td>\n",
       "      <td>691.2</td>\n",
       "    </tr>\n",
       "  </tbody>\n",
       "</table>\n",
       "</div>"
      ],
      "text/plain": [
       "               x          y      Q\n",
       "0  -1.626947e+01  36.541818  691.2\n",
       "1  -2.972579e+01  26.765224  691.2\n",
       "2  -3.804226e+01  12.360680  691.2\n",
       "3  -3.978088e+01  -4.181139  691.2\n",
       "4  -3.464102e+01 -20.000000  691.2\n",
       "5  -2.351141e+01 -32.360680  691.2\n",
       "6  -8.316468e+00 -39.125904  691.2\n",
       "7   8.316468e+00 -39.125904  691.2\n",
       "8   2.351141e+01 -32.360680  691.2\n",
       "9   3.464102e+01 -20.000000  691.2\n",
       "10  3.978088e+01  -4.181139  691.2\n",
       "11  3.804226e+01  12.360680  691.2\n",
       "12  2.972579e+01  26.765224  691.2\n",
       "13  1.626947e+01  36.541818  691.2\n",
       "14  9.797174e-15  40.000000  691.2"
      ]
     },
     "execution_count": 127,
     "metadata": {},
     "output_type": "execute_result"
    },
    {
     "data": {
      "image/png": "[encoded data removed]",
      "text/plain": [
       "<Figure size 432x288 with 1 Axes>"
      ]
     },
     "metadata": {
      "needs_background": "light"
     },
     "output_type": "display_data"
    }
   ],
   "source": [
    "# Create ring of wells; export to wells.txt\n",
    "origin = (0,0)\n",
    "radius = 40 # m\n",
    "split = 15\n",
    "split_rot = 360/split\n",
    "Q = 8*1e-3*86400 # L/s to m3/d\n",
    "\n",
    "coords = []\n",
    "for i in range(split):\n",
    "    rot = (i+1)*split_rot\n",
    "    coords.append(list(rotate(origin, (0,radius), math.radians(rot))))\n",
    "\n",
    "\n",
    "df = pd.DataFrame(coords, columns=['x','y'])\n",
    "df['Q'] = Q\n",
    "df.plot(x='x', y='y', ls='', marker='o')\n",
    "\n",
    "df.to_csv('wells.txt', index=False, sep='\\t')\n",
    "df\n"
   ]
  },
  {
   "cell_type": "code",
   "execution_count": 148,
   "metadata": {},
   "outputs": [
    {
     "name": "stdout",
     "output_type": "stream",
     "text": [
      "Reading model parameters ...\n",
      "Reading well file ...\n",
      "Calculating ...\n",
      "Done.\n"
     ]
    }
   ],
   "source": [
    "t = 50. # days\n",
    "TheisField(t)"
   ]
  },
  {
   "cell_type": "code",
   "execution_count": 149,
   "metadata": {},
   "outputs": [
    {
     "data": {
      "text/html": [
       "<div>\n",
       "<style scoped>\n",
       "    .dataframe tbody tr th:only-of-type {\n",
       "        vertical-align: middle;\n",
       "    }\n",
       "\n",
       "    .dataframe tbody tr th {\n",
       "        vertical-align: top;\n",
       "    }\n",
       "\n",
       "    .dataframe thead th {\n",
       "        text-align: right;\n",
       "    }\n",
       "</style>\n",
       "<table border=\"1\" class=\"dataframe\">\n",
       "  <thead>\n",
       "    <tr style=\"text-align: right;\">\n",
       "      <th></th>\n",
       "      <th>x</th>\n",
       "      <th>y</th>\n",
       "      <th>dh</th>\n",
       "    </tr>\n",
       "  </thead>\n",
       "  <tbody>\n",
       "    <tr>\n",
       "      <th>0</th>\n",
       "      <td>-500.0</td>\n",
       "      <td>-500.0</td>\n",
       "      <td>11.172860</td>\n",
       "    </tr>\n",
       "    <tr>\n",
       "      <th>1</th>\n",
       "      <td>-490.0</td>\n",
       "      <td>-500.0</td>\n",
       "      <td>11.214008</td>\n",
       "    </tr>\n",
       "    <tr>\n",
       "      <th>2</th>\n",
       "      <td>-480.0</td>\n",
       "      <td>-500.0</td>\n",
       "      <td>11.255141</td>\n",
       "    </tr>\n",
       "    <tr>\n",
       "      <th>3</th>\n",
       "      <td>-470.0</td>\n",
       "      <td>-500.0</td>\n",
       "      <td>11.296241</td>\n",
       "    </tr>\n",
       "    <tr>\n",
       "      <th>4</th>\n",
       "      <td>-460.0</td>\n",
       "      <td>-500.0</td>\n",
       "      <td>11.337289</td>\n",
       "    </tr>\n",
       "  </tbody>\n",
       "</table>\n",
       "</div>"
      ],
      "text/plain": [
       "       x      y         dh\n",
       "0 -500.0 -500.0  11.172860\n",
       "1 -490.0 -500.0  11.214008\n",
       "2 -480.0 -500.0  11.255141\n",
       "3 -470.0 -500.0  11.296241\n",
       "4 -460.0 -500.0  11.337289"
      ]
     },
     "execution_count": 149,
     "metadata": {},
     "output_type": "execute_result"
    }
   ],
   "source": [
    "head_change = pd.read_csv('head_change.csv')\n",
    "head_change.head()"
   ]
  },
  {
   "cell_type": "code",
   "execution_count": 150,
   "metadata": {},
   "outputs": [
    {
     "name": "stderr",
     "output_type": "stream",
     "text": [
      "C:\\Users\\RyanBurgess\\AppData\\Local\\Temp\\ipykernel_20196\\43900040.py:27: UserWarning: No contour levels were found within the data range.\n",
      "  cp = ax.contour(X, Y, Z, levels=levels, colors=line_colors)\n"
     ]
    },
    {
     "data": {
      "image/png": "[encoded data removed]",
      "text/plain": [
       "<Figure size 432x288 with 2 Axes>"
      ]
     },
     "metadata": {
      "needs_background": "light"
     },
     "output_type": "display_data"
    }
   ],
   "source": [
    "# Plot contour array\n",
    "\n",
    "Z = head_change.pivot_table(index='x', columns='y', values='dh').T.values\n",
    "\n",
    "X_unique = np.sort(head_change.x.unique())\n",
    "Y_unique = np.sort(head_change.y.unique())\n",
    "X, Y = np.meshgrid(X_unique, Y_unique)\n",
    "\n",
    "grid_x, grid_y = np.mgrid[-500:500:100j, -500:500:200j]\n",
    "\n",
    "grid_z0 = griddata(head_change[['x','y']].values, head_change['dh'].values, (grid_x, grid_y), method='nearest')\n",
    "\n",
    "fig = plt.figure()\n",
    "ax = fig.add_subplot(111)\n",
    "\n",
    "levels = np.linspace(1., 8., 20)\n",
    "#import matplotlib.cm as cm # matplotlib's color map library\n",
    "#cpf = ax.contourf(X,Y,Z, levels, cmap=cm.Reds)\n",
    "line_colors = ['black' for l in levels]\n",
    "\n",
    "\n",
    "\n",
    "# plots filled contour plot\n",
    "g = ax.imshow(grid_z0.T, extent=(-500,500,-500,500), origin='lower')\n",
    "fig.colorbar(g, ax=ax)\n",
    "ax.plot(df['x'].values, df['y'].values, 'k.', ms=1)\n",
    "cp = ax.contour(X, Y, Z, levels=levels, colors=line_colors)\n",
    "ax.clabel(cp, fontsize=10, colors=line_colors)\n",
    "ax.set_xlim(-50,50)\n",
    "ax.set_ylim(-50,50)\n",
    "ax.set_xlabel('X')\n",
    "ax.set_ylabel('Y')\n",
    "plt.show()"
   ]
  }
 ],
 "metadata": {
  "kernelspec": {
   "display_name": "base",
   "language": "python",
   "name": "python3"
  },
  "language_info": {
   "codemirror_mode": {
    "name": "ipython",
    "version": 3
   },
   "file_extension": ".py",
   "mimetype": "text/x-python",
   "name": "python",
   "nbconvert_exporter": "python",
   "pygments_lexer": "ipython3",
   "version": "3.9.12"
  },
  "orig_nbformat": 4,
  "vscode": {
   "interpreter": {
    "hash": "a5556699f98e26240b5d837469ab6079006990bae74bfb0bf6c05a12af4f124f"
   }
  }
 },
 "nbformat": 4,
 "nbformat_minor": 2
}
